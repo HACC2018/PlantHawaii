{
 "cells": [
  {
   "cell_type": "code",
   "execution_count": 1,
   "metadata": {},
   "outputs": [],
   "source": [
    "import os\n",
    "from PIL import Image\n",
    "import Augmentor\n",
    "\n",
    "#fixed size for image \n",
    "fixed_size = tuple((500,500))\n",
    "#path to training dataset\n",
    "train_path = \"C:\\\\Users\\\\Tai\\\\Notebooks\\\\Project\\\\jpg\"\n",
    "\n",
    "train_labels = os.listdir(train_path)"
   ]
  },
  {
   "cell_type": "code",
   "execution_count": 9,
   "metadata": {
    "collapsed": true
   },
   "outputs": [
    {
     "data": {
      "text/plain": [
       "'for labels in train_labels:\\n    dir = os.path.join(train_path, labels)\\n    p = Augmentor.Pipeline(dir)\\n    p.rotate(probability=0.7, max_left_rotation=10, max_right_rotation=10)\\n    p.flip_left_right(probability=0.5)\\n    p.zoom_random(probability=0.5, percentage_area=0.8)\\n    p.flip_top_bottom(probability=0.5)\\n    p.sample(100)'"
      ]
     },
     "execution_count": 9,
     "metadata": {},
     "output_type": "execute_result"
    }
   ],
   "source": [
    "#Images augmentation\n",
    "for labels in train_labels:\n",
    "    dir = os.path.join(train_path, labels)\n",
    "    p = Augmentor.Pipeline(dir)\n",
    "    p.rotate(probability=0.7, max_left_rotation=10, max_right_rotation=10)\n",
    "    p.flip_left_right(probability=0.5)\n",
    "    p.zoom_random(probability=0.5, percentage_area=0.8)\n",
    "    p.flip_top_bottom(probability=0.5)\n",
    "    p.sample(100)"
   ]
  },
  {
   "cell_type": "code",
   "execution_count": 23,
   "metadata": {
    "collapsed": true
   },
   "outputs": [
    {
     "name": "stderr",
     "output_type": "stream",
     "text": [
      "C:\\ProgramData\\Anaconda3\\lib\\site-packages\\ipykernel_launcher.py:6: ResourceWarning: unclosed file <_io.BufferedReader name='C:\\\\Users\\\\Tai\\\\Notebooks\\\\Project\\\\jpg\\\\Cordia subcordata\\\\14. cordia_subcordata_leaves_%285731739024%29.jpg'>\n",
      "  \n",
      "C:\\ProgramData\\Anaconda3\\lib\\site-packages\\ipykernel_launcher.py:6: ResourceWarning: unclosed file <_io.BufferedReader name='C:\\\\Users\\\\Tai\\\\Notebooks\\\\Project\\\\jpg\\\\Hibiscus waimeae\\\\94. lunahibiscusatburden.jpg'>\n",
      "  \n",
      "C:\\ProgramData\\Anaconda3\\lib\\site-packages\\PIL\\TiffImagePlugin.py:725: UserWarning: Possibly corrupt EXIF data.  Expecting to read 37093376 bytes but only got 0. Skipping tag 0\n",
      "  \" Skipping tag %s\" % (size, len(data), tag))\n",
      "C:\\ProgramData\\Anaconda3\\lib\\site-packages\\PIL\\TiffImagePlugin.py:725: UserWarning: Possibly corrupt EXIF data.  Expecting to read 20054016 bytes but only got 0. Skipping tag 0\n",
      "  \" Skipping tag %s\" % (size, len(data), tag))\n",
      "C:\\ProgramData\\Anaconda3\\lib\\site-packages\\PIL\\TiffImagePlugin.py:742: UserWarning: Corrupt EXIF data.  Expecting to read 12 bytes but only got 10. \n",
      "  warnings.warn(str(msg))\n"
     ]
    }
   ],
   "source": [
    "#Convert all photos into JPG files, resize photo to (500,500) and change photo names\n",
    "for labels in train_labels:\n",
    "    dir = os.path.join(train_path, labels)\n",
    "    count = 1\n",
    "    for filename in os.listdir(dir):\n",
    "        image = Image.open(os.path.join(dir,filename))   \n",
    "        image = image.resize(fixed_size, Image.ANTIALIAS)\n",
    "        jp = image.convert('RGB')        \n",
    "        jp.save(os.path.join(dir,str(count)+\".jpg\"))\n",
    "        os.remove(os.path.join(dir,filename))\n",
    "        count = count + 1"
   ]
  }
 ],
 "metadata": {
  "kernelspec": {
   "display_name": "Python 3",
   "language": "python",
   "name": "python3"
  },
  "language_info": {
   "codemirror_mode": {
    "name": "ipython",
    "version": 3
   },
   "file_extension": ".py",
   "mimetype": "text/x-python",
   "name": "python",
   "nbconvert_exporter": "python",
   "pygments_lexer": "ipython3",
   "version": "3.6.4"
  }
 },
 "nbformat": 4,
 "nbformat_minor": 2
}
